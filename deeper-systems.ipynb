{
 "cells": [
  {
   "cell_type": "code",
   "execution_count": 5,
   "metadata": {},
   "outputs": [],
   "source": [
    "import json\n",
    "\n",
    "# MANIPULAÇÃO DOS DADOS\n",
    "import pandas as pd"
   ]
  },
  {
   "cell_type": "code",
   "execution_count": 7,
   "metadata": {},
   "outputs": [
    {
     "name": "stdout",
     "output_type": "stream",
     "text": [
      "Read file: source_file_2.json\n"
     ]
    }
   ],
   "source": [
    "MANAGER_LIST = []\n",
    "WATCHERS_LIST = []\n",
    "LIST_DEL = []\n",
    "\n",
    "WORKDIR = '/home/squads/Documentos/git/rauan/deeper-systems/'\n",
    "FILE_JSON = 'source_file_2.json'\n",
    "\n",
    "try:\n",
    "    with open(f'{WORKDIR}/{FILE_JSON}') as file:\n",
    "        print(f'Read file: {FILE_JSON}')\n",
    "        file_json = json.load(file)\n",
    "        \n",
    "except Exception as Error:\n",
    "    print(f'Error read file: {FILE_JSON}')"
   ]
  },
  {
   "cell_type": "code",
   "execution_count": 8,
   "metadata": {},
   "outputs": [],
   "source": [
    "MANAGER_LIST = []\n",
    "WATCHERS_LIST = []\n",
    "LIST_DEL_MANAGER = []\n",
    "LIST_DEL_WATCHERS = []\n",
    "\n",
    "for index, row in enumerate(file_json):\n",
    "    \n",
    "    ###############################\n",
    "    list_managers = row['managers']\n",
    "    if len(list_managers) > 1:\n",
    "        LIST_DEL_MANAGER.append(index)\n",
    "        \n",
    "        for manager in list_managers:\n",
    "            new_row = {}\n",
    "            new_row = row\n",
    "            new_row['managers'] = manager\n",
    "            MANAGER_LIST.append(new_row)\n",
    "            \n",
    "    else:\n",
    "        row['managers'] = str(row['managers'][0])\n",
    "        MANAGER_LIST.append(row)\n",
    "    \n",
    "    ###############################\n",
    "    list_watchers = row['watchers']\n",
    "    if len(list_watchers) > 1:\n",
    "        LIST_DEL_WATCHERS.append(index)\n",
    "        for watcher in list_watchers:\n",
    "            \n",
    "            new_row = {}\n",
    "            new_row = row\n",
    "            new_row['watchers'] = watcher\n",
    "            WATCHERS_LIST.append(new_row)\n",
    "            \n",
    "    else:\n",
    "        row['watchers'] = str(row['watchers'][0])\n",
    "        WATCHERS_LIST.append(row)\n",
    "        \n",
    "for delete_row in sorted(LIST_DEL_MANAGER, reverse=True):\n",
    "    del MANAGER_LIST[delete_row]\n",
    "\n",
    "for delete_row in sorted(LIST_DEL_WATCHERS, reverse=True):\n",
    "    del WATCHERS_LIST[delete_row]"
   ]
  },
  {
   "cell_type": "code",
   "execution_count": 9,
   "metadata": {},
   "outputs": [],
   "source": [
    "# CREATE LIST\n",
    "list_managers = {}\n",
    "for row in MANAGER_LIST:\n",
    "    if row['managers'] in list_managers:\n",
    "        list_managers[row['managers']].append({'name': row['name'], 'priority': row['priority']})\n",
    "    else:\n",
    "        list_managers[row['managers']] = [{'name': row['name'], 'priority': row['priority']}]\n",
    "\n",
    "list_watchers = {}\n",
    "for row in WATCHERS_LIST:\n",
    "    if row['watchers'] in list_watchers:\n",
    "        list_watchers[row['watchers']].append({'name': row['name'], 'priority': row['priority']})\n",
    "    else:\n",
    "        list_watchers[row['watchers']] = [{'name': row['name'], 'priority': row['priority']}]"
   ]
  },
  {
   "cell_type": "code",
   "execution_count": 10,
   "metadata": {},
   "outputs": [],
   "source": [
    "# REMOVE DUPLICATES\n",
    "seen = set()\n",
    "new_l = []\n",
    "for name in list_managers:\n",
    "    for d in list_managers[name]:\n",
    "        t = tuple(d.items())\n",
    "        if t not in seen:\n",
    "            seen.add(t)\n",
    "            new_l.append(d)\n",
    "    list_managers[name] = sorted(new_l, key = lambda i: i['priority'])\n",
    "    layout_row = []\n",
    "    for row in list_managers[name]:\n",
    "        layout_row.append(row['name'])\n",
    "    list_managers[name] = layout_row\n",
    "    \n",
    "seen = set()\n",
    "new_l = []\n",
    "for name in list_watchers:\n",
    "    for d in list_watchers[name]:\n",
    "        t = tuple(d.items())\n",
    "        if t not in seen:\n",
    "            seen.add(t)\n",
    "            new_l.append(d)\n",
    "    list_watchers[name] = sorted(new_l, key = lambda i: i['priority'])\n",
    "    layout_row = []\n",
    "    for row in list_watchers[name]:\n",
    "        layout_row.append(row['name'])\n",
    "    list_watchers[name] = layout_row"
   ]
  },
  {
   "cell_type": "code",
   "execution_count": 12,
   "metadata": {},
   "outputs": [
    {
     "name": "stdout",
     "output_type": "stream",
     "text": [
      "Files save\n"
     ]
    }
   ],
   "source": [
    "with open(f'{WORKDIR}/managers.json', 'w') as new_file:\n",
    "    json.dump(list_managers, new_file)\n",
    "    \n",
    "with open(f'{WORKDIR}/watchers.json', 'w') as new_file:\n",
    "    json.dump(list_watchers, new_file)\n",
    "\n",
    "print('Files save')"
   ]
  }
 ],
 "metadata": {
  "kernelspec": {
   "display_name": "Python 3",
   "language": "python",
   "name": "python3"
  },
  "language_info": {
   "codemirror_mode": {
    "name": "ipython",
    "version": 3
   },
   "file_extension": ".py",
   "mimetype": "text/x-python",
   "name": "python",
   "nbconvert_exporter": "python",
   "pygments_lexer": "ipython3",
   "version": "3.6.9"
  }
 },
 "nbformat": 4,
 "nbformat_minor": 4
}
